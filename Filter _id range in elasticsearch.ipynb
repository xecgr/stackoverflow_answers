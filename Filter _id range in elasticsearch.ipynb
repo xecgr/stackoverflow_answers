{
 "cells": [
  {
   "cell_type": "markdown",
   "metadata": {},
   "source": [
    "This notebook tries to resolve the stackoverflow http://stackoverflow.com/questions/17952873/filter-id-range-in-elasticsearch question with an adhoc example"
   ]
  },
  {
   "cell_type": "code",
   "execution_count": 5,
   "metadata": {
    "collapsed": false
   },
   "outputs": [],
   "source": [
    "import json\n",
    "from elasticsearch import Elasticsearch\n",
    "\n",
    "#cluster node to query\n",
    "es = Elasticsearch(['localhost:9200',])\n",
    "index_name    = 'country_currency'\n",
    "\n",
    "es.indices.delete(\n",
    "    index = index_name,\n",
    ")\n",
    "es.indices.create(\n",
    "    index = index_name,\n",
    ")\n",
    "\n",
    "records = [\n",
    "    {'country': 1, 'currency': 1, 'id': 'p01'},\n",
    "    {'country': 1, 'currency': 2, 'id': 'p02'},\n",
    "    {'country': 1, 'currency': 3, 'id': 'p03'},\n",
    "    {'country': 2, 'currency': 1, 'id': 'p04'},\n",
    "    {'country': 2, 'currency': 2, 'id': 'p05'},\n",
    "    {'country': 2, 'currency': 4, 'id': 'p06'},\n",
    "    {'country': 3, 'currency': 1, 'id': 'p07'},\n",
    "    {'country': 3, 'currency': 3, 'id': 'p08'},\n",
    "    {'country': 3, 'currency': 4, 'id': 'p09'},\n",
    "    {'country': 4, 'currency': 5, 'id': 'p10'},\n",
    "    {'country': 4, 'currency': 6, 'id': 'p11'},\n",
    "    {'country': 4, 'currency': 7, 'id': 'p12'}\n",
    "]\n",
    "    \n",
    "kwargs = {\n",
    "    'body' : []\n",
    "}\n",
    "index_config = { \n",
    "    \"_type\"  : \"item\", \n",
    "    \"_index\" : 'country_currency', \n",
    "}\n",
    "\n",
    "for idx,r in enumerate(records):\n",
    "    _index_config = dict(index_config)\n",
    "    #set Elasticsearch uid\n",
    "    _index_config['_id'] = idx\n",
    "    #replicate in a document field to be able to filter for\n",
    "    r['id'] = idx\n",
    "    kwargs['body'].append({'index' : _index_config})\n",
    "    kwargs['body'].append(r)\n",
    "\n",
    "_ = es.bulk(**kwargs)"
   ]
  },
  {
   "cell_type": "code",
   "execution_count": 14,
   "metadata": {
    "collapsed": false
   },
   "outputs": [
    {
     "name": "stdout",
     "output_type": "stream",
     "text": [
      "{u'country': 2, u'id': 4, u'currency': 2}\n",
      "{u'country': 2, u'id': 3, u'currency': 1}\n"
     ]
    }
   ],
   "source": [
    "elasticsearch_query = {\n",
    "    \"query\": {\n",
    "        \"filtered\": {\n",
    "            \"filter\": {\n",
    "                \"range\": {\n",
    "                    \"id\": {\n",
    "                        \"gte\" : 3,\n",
    "                        \"lt\"  : 5\n",
    "                    }\n",
    "                }\n",
    "            }\n",
    "        }\n",
    "    }\n",
    "}\n",
    "\n",
    "es_kwargs = { \n",
    "    \"doc_type\"  : \"item\", \n",
    "    \"index\" : \"country_currency\", \n",
    "    \"body\" : elasticsearch_query,\n",
    "}\n",
    "\n",
    "\n",
    "res = es.search(**es_kwargs)\n",
    "\n",
    "for hit in res.get('hits',{}).get('hits',[]):\n",
    "    print  hit['_source']\n",
    "    "
   ]
  },
  {
   "cell_type": "code",
   "execution_count": null,
   "metadata": {
    "collapsed": true
   },
   "outputs": [],
   "source": []
  }
 ],
 "metadata": {
  "kernelspec": {
   "display_name": "Python 2",
   "language": "python",
   "name": "python2"
  },
  "language_info": {
   "codemirror_mode": {
    "name": "ipython",
    "version": 2
   },
   "file_extension": ".py",
   "mimetype": "text/x-python",
   "name": "python",
   "nbconvert_exporter": "python",
   "pygments_lexer": "ipython2",
   "version": "2.7.6"
  }
 },
 "nbformat": 4,
 "nbformat_minor": 2
}
