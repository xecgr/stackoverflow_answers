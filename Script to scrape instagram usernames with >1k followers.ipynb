{
 "cells": [
  {
   "cell_type": "markdown",
   "metadata": {
    "deletable": true,
    "editable": true
   },
   "source": [
    "Sample script to fetch instagram users by some criteria.\n",
    "Jobs like: https://www.upwork.com/ab/proposals/836839503518666752"
   ]
  },
  {
   "cell_type": "code",
   "execution_count": 1,
   "metadata": {
    "collapsed": false,
    "deletable": true,
    "editable": true,
    "scrolled": true
   },
   "outputs": [
    {
     "name": "stdout",
     "output_type": "stream",
     "text": [
      "ITERATION 1 - https://api.instagram.com/v1/tags/gym/media/recent?access_token=TOKEN&count=100&max_tag_id=AQBVS07la3_IoONa6yctWgZb4k3v6GoLb5pWWCB02sNLDjXofoan16I_2bnKwzy0YfdeWgCZfam4fPGQwvCW93hnvr0JvkVvOKeXMbPGfP9akSFo-e-7GrNNQgfMfV8hyIg\n",
      "ITERATION 2 - https://api.instagram.com/v1/tags/gym/media/recent?access_token=TOKEN&count=100&max_tag_id=AQAZq1Wz2MWcr_hiX9z7dGtTNcZxrVMQ-fa90uMJol8MkOdmDdPh3ryXq_GUUGUu1rec3Wlsm9or9D6tsuzmxj6Io0i89NzG-G2_VzipcEL16D_F7Qhw8upjer1162R7szQ\n"
     ]
    }
   ],
   "source": [
    "#pip install --upgrade git+https://github.com/MabrianOfficial/python-instagram.git\n",
    "from instagram.client import InstagramAPI\n",
    "\n",
    "access_token        = 'TOKEN'\n",
    "api                 = InstagramAPI(access_token = access_token)\n",
    "hashtag             = 'gym'\n",
    "MAX_USERS_COLLECTED = 5\n",
    "USER_CONDITIONS     = [\n",
    "    lambda u: u.counts['followed_by']>1000,     #more than 1k followers\n",
    "    lambda u: 'fitness' in u.bio.lower(),       #contains some strings in his bio\n",
    "]\n",
    "next_url     = ''\n",
    "collected_users     = []\n",
    "n_loops      = 0\n",
    "count        = 100\n",
    "max_id      = ''\n",
    "while len(collected_users) < MAX_USERS_COLLECTED:\n",
    "    result, next_url = api.tag_recent_media(count, max_id, hashtag,with_next_url=next_url)\n",
    "    print \"ITERATION {} - {}\".format(n_loops+1,next_url)\n",
    "    if len(result) == 0:\n",
    "        # No new results\n",
    "        break\n",
    "    for publication in result:\n",
    "        user       = api.user(publication.user.id)\n",
    "        to_collect = True\n",
    "        for cond in USER_CONDITIONS:\n",
    "            to_collect = to_collect and cond(user)\n",
    "        if to_collect:\n",
    "            collected_users.append(user)\n",
    "    n_loops +=1"
   ]
  },
  {
   "cell_type": "code",
   "execution_count": 4,
   "metadata": {
    "collapsed": false,
    "deletable": true,
    "editable": true
   },
   "outputs": [
    {
     "name": "stdout",
     "output_type": "stream",
     "text": [
      "+------------+-----------------------+--------------------------------------------------------+\n",
      "|     id     |        username       |                         counts                         |\n",
      "+------------+-----------------------+--------------------------------------------------------+\n",
      "| 788453749  |    key2swiftfitness   | {'media': 1380, 'followed_by': 4699, 'follows': 4260}  |\n",
      "| 3137532696 |    healthy_sos0lbh    | {'media': 2889, 'followed_by': 78564, 'follows': 596}  |\n",
      "| 4303558856 | beast_nation_official |  {'media': 11, 'followed_by': 2352, 'follows': 1389}   |\n",
      "| 224220089  |   judymartonfitness   | {'follows': 1110, 'followed_by': 3933, 'media': 1000}  |\n",
      "| 1922992003 |   super_mega_fitness  | {'media': 1441, 'followed_by': 17795, 'follows': 5185} |\n",
      "|  11140599  |   nataliejaynewarren  |  {'media': 667, 'followed_by': 3612, 'follows': 621}   |\n",
      "| 1232537185 |      foxfitness20     | {'media': 1466, 'followed_by': 2839, 'follows': 3666}  |\n",
      "| 3566017672 |      robert.m.fit     |  {'follows': 501, 'followed_by': 16470, 'media': 151}  |\n",
      "|  52324300  |     kanekinfitness    | {'media': 2434, 'followed_by': 46298, 'follows': 256}  |\n",
      "+------------+-----------------------+--------------------------------------------------------+\n"
     ]
    }
   ],
   "source": [
    "\n",
    "from prettytable import PrettyTable\n",
    "table_columns = [\n",
    "    'id',\n",
    "    'username',\n",
    "    'counts',\n",
    "]\n",
    "table = PrettyTable()\n",
    "for column in table_columns:\n",
    "    users_data = []\n",
    "    for user in collected_users:\n",
    "        users_data.append(getattr(user,column))\n",
    "    table.add_column(column,users_data)\n",
    "\n",
    "print table"
   ]
  }
 ],
 "metadata": {
  "kernelspec": {
   "display_name": "Python 2",
   "language": "python",
   "name": "python2"
  },
  "language_info": {
   "codemirror_mode": {
    "name": "ipython",
    "version": 2
   },
   "file_extension": ".py",
   "mimetype": "text/x-python",
   "name": "python",
   "nbconvert_exporter": "python",
   "pygments_lexer": "ipython2",
   "version": "2.7.6"
  }
 },
 "nbformat": 4,
 "nbformat_minor": 2
}
