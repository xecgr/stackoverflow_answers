{
 "cells": [
  {
   "cell_type": "markdown",
   "metadata": {},
   "source": [
    "This notebook tries to resolve the stackoverflow http://stackoverflow.com/questions/42470137/elasticsearch-how-to-aggregate-and-filter-by-multiple-rows question with an adhoc example"
   ]
  },
  {
   "cell_type": "markdown",
   "metadata": {},
   "source": [
    "## Init Elasticsearch indexes and data\n",
    "Lets create the index structure and load data"
   ]
  },
  {
   "cell_type": "code",
   "execution_count": 44,
   "metadata": {
    "collapsed": false
   },
   "outputs": [],
   "source": [
    "import json\n",
    "from elasticsearch import Elasticsearch\n",
    "\n",
    "#cluster node to query\n",
    "es = Elasticsearch(['localhost:9200',])\n",
    "index_name    = 'country_currency'\n",
    "\n",
    "es.indices.delete(\n",
    "    index = index_name,\n",
    ")\n",
    "es.indices.create(\n",
    "    index = index_name,\n",
    ")\n",
    "\n",
    "records = [\n",
    "    {'country': 1, 'currency': 1, 'id': 'p01'},\n",
    "    {'country': 1, 'currency': 2, 'id': 'p02'},\n",
    "    {'country': 1, 'currency': 3, 'id': 'p03'},\n",
    "    {'country': 2, 'currency': 1, 'id': 'p04'},\n",
    "    {'country': 2, 'currency': 2, 'id': 'p05'},\n",
    "    {'country': 2, 'currency': 4, 'id': 'p06'},\n",
    "    {'country': 3, 'currency': 1, 'id': 'p07'},\n",
    "    {'country': 3, 'currency': 3, 'id': 'p08'},\n",
    "    {'country': 3, 'currency': 4, 'id': 'p09'},\n",
    "    {'country': 4, 'currency': 5, 'id': 'p10'},\n",
    "    {'country': 4, 'currency': 6, 'id': 'p11'},\n",
    "    {'country': 4, 'currency': 7, 'id': 'p12'}\n",
    "]\n",
    "    \n",
    "kwargs = {\n",
    "    'body' : []\n",
    "}\n",
    "index_config = { \n",
    "    \"_type\"  : \"item\", \n",
    "    \"_index\" : 'country_currency', \n",
    "}\n",
    "\n",
    "for idx,r in enumerate(records):\n",
    "    _index_config = dict(index_config)\n",
    "    _index_config['_id'] = idx\n",
    "    kwargs['body'].append({'index' : _index_config})\n",
    "    kwargs['body'].append(r)\n",
    "\n",
    "_ = es.bulk(**kwargs)"
   ]
  },
  {
   "cell_type": "code",
   "execution_count": 45,
   "metadata": {
    "collapsed": false
   },
   "outputs": [
    {
     "data": {
      "text/plain": [
       "[{'country': 1, 'currency': 1, 'id': 'p01'},\n",
       " {'country': 1, 'currency': 2, 'id': 'p02'},\n",
       " {'country': 1, 'currency': 3, 'id': 'p03'},\n",
       " {'country': 2, 'currency': 1, 'id': 'p04'},\n",
       " {'country': 2, 'currency': 2, 'id': 'p05'},\n",
       " {'country': 2, 'currency': 4, 'id': 'p06'},\n",
       " {'country': 3, 'currency': 1, 'id': 'p07'},\n",
       " {'country': 3, 'currency': 3, 'id': 'p08'},\n",
       " {'country': 3, 'currency': 4, 'id': 'p09'},\n",
       " {'country': 4, 'currency': 5, 'id': 'p10'},\n",
       " {'country': 4, 'currency': 6, 'id': 'p11'},\n",
       " {'country': 4, 'currency': 7, 'id': 'p12'}]"
      ]
     },
     "execution_count": 45,
     "metadata": {},
     "output_type": "execute_result"
    }
   ],
   "source": [
    "records"
   ]
  },
  {
   "cell_type": "code",
   "execution_count": 48,
   "metadata": {
    "collapsed": false
   },
   "outputs": [
    {
     "name": "stdout",
     "output_type": "stream",
     "text": [
      "1\n",
      "2\n"
     ]
    }
   ],
   "source": [
    "currencies_criteria = [1,2]\n",
    "\n",
    "elasticsearch_query = {\n",
    "    \"query\": {\n",
    "        \"filtered\": {\n",
    "            \"filter\": {\n",
    "                \"bool\": {\n",
    "                    \"must\" : [\n",
    "                        {\n",
    "                            \"term\": {\"currency\" : currencies_criteria}\n",
    "                        }\n",
    "                    ]\n",
    "                    \n",
    "                }\n",
    "            }\n",
    "        }\n",
    "    },\n",
    "    \"aggs\" : {\n",
    "        \"country_count\" : {\n",
    "            \"terms\" : {\n",
    "                \"field\" : \"country\",\n",
    "                #https://www.elastic.co/guide/en/elasticsearch/reference/current/search-aggregations-bucket-terms-aggregation.html#search-aggregations-bucket-terms-aggregation-approximate-counts\n",
    "                \"size\"  : 0\n",
    "            }\n",
    "        }\n",
    "    }\n",
    "}\n",
    "\n",
    "es_kwargs = { \n",
    "    \"doc_type\"  : \"item\", \n",
    "    \"index\" : \"country_currency\", \n",
    "    \"body\" : elasticsearch_query,\n",
    "}\n",
    "\n",
    "\n",
    "res = es.search(**es_kwargs)\n",
    "\n",
    "for bucket in res.get('aggregations',{}).get('country_count',{}).get('buckets',[]):\n",
    "    country = bucket['key']\n",
    "    print country"
   ]
  },
  {
   "cell_type": "code",
   "execution_count": null,
   "metadata": {
    "collapsed": true
   },
   "outputs": [],
   "source": []
  }
 ],
 "metadata": {
  "kernelspec": {
   "display_name": "Python 2",
   "language": "python",
   "name": "python2"
  },
  "language_info": {
   "codemirror_mode": {
    "name": "ipython",
    "version": 2
   },
   "file_extension": ".py",
   "mimetype": "text/x-python",
   "name": "python",
   "nbconvert_exporter": "python",
   "pygments_lexer": "ipython2",
   "version": "2.7.6"
  }
 },
 "nbformat": 4,
 "nbformat_minor": 2
}
